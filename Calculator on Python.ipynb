{
 "cells": [
  {
   "cell_type": "code",
   "execution_count": 3,
   "id": "25c42ea7-2884-439c-a1bb-fa232ae4f509",
   "metadata": {},
   "outputs": [],
   "source": [
    "def add(x,y):\n",
    "    return x + y\n",
    "\n",
    "def subtract(x,y):\n",
    "    return x - y\n",
    "\n",
    "def multiply(x,y):\n",
    "    return x * y\n",
    "\n",
    "def divide(x,y):\n",
    "    return x / y"
   ]
  },
  {
   "cell_type": "code",
   "execution_count": 5,
   "id": "97a36e98-6a81-4645-b998-f5642e17b489",
   "metadata": {},
   "outputs": [
    {
     "name": "stdin",
     "output_type": "stream",
     "text": [
      "Enter Choice (A,S,M,D):  A\n"
     ]
    }
   ],
   "source": [
    "choice = input('Enter Choice (A,S,M,D): ')\n",
    "\n",
    "num1 = float(input('Enter Fisrt Number: '))\n",
    "\n",
    "num2 = float(input('Enter Second Number: '))"
   ]
  },
  {
   "cell_type": "code",
   "execution_count": 23,
   "id": "e0d5bb4d-4248-4720-bd21-5870259f60c7",
   "metadata": {},
   "outputs": [
    {
     "name": "stdout",
     "output_type": "stream",
     "text": [
      "Enter A for Addition\n",
      "Enter S for Subtraction\n",
      "Enter M for Multiplication\n",
      "Enter D for Divition\n"
     ]
    },
    {
     "name": "stdin",
     "output_type": "stream",
     "text": [
      "Enter Choice (A,S,M,D):  a\n",
      "Enter Fisrt Number:  10\n",
      "Enter Second Number:  20\n"
     ]
    },
    {
     "name": "stdout",
     "output_type": "stream",
     "text": [
      "Result:  10.0 + 20.0 = 30.0\n"
     ]
    },
    {
     "name": "stdin",
     "output_type": "stream",
     "text": [
      "Want to do another calculation? (Y/N):  n\n"
     ]
    },
    {
     "ename": "NameError",
     "evalue": "name 'next_calculation' is not defined",
     "output_type": "error",
     "traceback": [
      "\u001b[1;31m---------------------------------------------------------------------------\u001b[0m",
      "\u001b[1;31mNameError\u001b[0m                                 Traceback (most recent call last)",
      "Cell \u001b[1;32mIn[23], line 28\u001b[0m\n\u001b[0;32m     25\u001b[0m     \u001b[38;5;28mprint\u001b[39m(\u001b[38;5;124m'\u001b[39m\u001b[38;5;124mYour input was incorrect. Please try again.\u001b[39m\u001b[38;5;124m'\u001b[39m)\n\u001b[0;32m     27\u001b[0m next_calcul \u001b[38;5;241m=\u001b[39m \u001b[38;5;28minput\u001b[39m(\u001b[38;5;124m'\u001b[39m\u001b[38;5;124mWant to do another calculation? (Y/N): \u001b[39m\u001b[38;5;124m'\u001b[39m)\n\u001b[1;32m---> 28\u001b[0m \u001b[38;5;28;01mif\u001b[39;00m next_calculation\u001b[38;5;241m.\u001b[39mupper() \u001b[38;5;129;01min\u001b[39;00m (\u001b[38;5;124m'\u001b[39m\u001b[38;5;124mN\u001b[39m\u001b[38;5;124m'\u001b[39m, \u001b[38;5;124m'\u001b[39m\u001b[38;5;124mNO\u001b[39m\u001b[38;5;124m'\u001b[39m):\n\u001b[0;32m     29\u001b[0m     \u001b[38;5;28;01mbreak\u001b[39;00m\n",
      "\u001b[1;31mNameError\u001b[0m: name 'next_calculation' is not defined"
     ]
    }
   ],
   "source": [
    "print('Enter A for Addition')\n",
    "print('Enter S for Subtraction')\n",
    "print('Enter M for Multiplication')\n",
    "print('Enter D for Divition')\n",
    "\n",
    "while True:\n",
    "    choice = input('Enter Choice (A,S,M,D): ')\n",
    "    if choice.upper() in ('A','S','M','D','ADD','ADDITION','SUBTRACT','SUBTRACTION','MULTIPLY','MULTIPLICATION','DIVIDE','DIVISION'):\n",
    "        num1 = float(input('Enter Fisrt Number: '))\n",
    "        num2 = float(input('Enter Second Number: '))\n",
    "        \n",
    "        if choice.upper() in ('A','ADD','ADDITION'):\n",
    "            print('Result: ',num1, '+', num2, '=',add(num1,num2))\n",
    "            \n",
    "        elif choice.upper() in ('S','SUBTRACT','SUBTRACTION'):\n",
    "            print('Result: ',num1, '-', num2, '=',subtract(num1,num2))\n",
    "            \n",
    "        elif choice.upper() in ('M','MULTIPLY','MULTIPLICATION'):\n",
    "            print('Result: ',num1, '*', num2, '=',multiply(num1,num2))\n",
    "            \n",
    "        elif choice.upper() in ('D','DIVIDE','DIVISION'):\n",
    "            print('Result: ',num1, '/', num2, '=',divide(num1,num2))\n",
    "    \n",
    "    else:\n",
    "        print('Your input was incorrect. Please try again.')\n",
    "    \n",
    "    next_calcul = input('Want to do another calculation? (Y/N): ')\n",
    "    if next_calculation.upper() in ('N', 'NO'):\n",
    "        break"
   ]
  },
  {
   "cell_type": "code",
   "execution_count": null,
   "id": "78b9effd-4e7e-4244-9b23-b1380419ca17",
   "metadata": {},
   "outputs": [],
   "source": []
  },
  {
   "cell_type": "code",
   "execution_count": null,
   "id": "03959bf3-957e-4949-ba29-a2e709c75d51",
   "metadata": {},
   "outputs": [],
   "source": []
  },
  {
   "cell_type": "code",
   "execution_count": null,
   "id": "23ff4b45-e985-4ff4-97df-da3e6f2668de",
   "metadata": {},
   "outputs": [],
   "source": []
  },
  {
   "cell_type": "code",
   "execution_count": null,
   "id": "bc737dc3-bd6f-4e19-9011-9d4720b592c4",
   "metadata": {},
   "outputs": [],
   "source": []
  },
  {
   "cell_type": "code",
   "execution_count": null,
   "id": "fce28139-dab9-4652-a55f-4a8b9e1f64fe",
   "metadata": {},
   "outputs": [],
   "source": []
  },
  {
   "cell_type": "code",
   "execution_count": null,
   "id": "48053583-a570-4589-a008-b2c951a1528c",
   "metadata": {},
   "outputs": [],
   "source": []
  },
  {
   "cell_type": "code",
   "execution_count": null,
   "id": "24cab326-8e68-4d65-a6f7-3f2586e824b3",
   "metadata": {},
   "outputs": [],
   "source": []
  },
  {
   "cell_type": "code",
   "execution_count": null,
   "id": "3a5c2c1c-35e0-4f02-8ef7-351bf55fd43e",
   "metadata": {},
   "outputs": [],
   "source": []
  },
  {
   "cell_type": "code",
   "execution_count": null,
   "id": "9a5a5c32-11aa-46aa-a02c-d138f8382b6a",
   "metadata": {},
   "outputs": [],
   "source": []
  },
  {
   "cell_type": "code",
   "execution_count": null,
   "id": "d8badaff-15f5-4732-a06e-d530ef63841c",
   "metadata": {},
   "outputs": [],
   "source": []
  },
  {
   "cell_type": "code",
   "execution_count": null,
   "id": "d67876f9-49d2-48e2-a4d7-3e3d0f4c8ab8",
   "metadata": {},
   "outputs": [],
   "source": []
  },
  {
   "cell_type": "code",
   "execution_count": null,
   "id": "173ab8c5-5ef3-44e4-8546-bd8fd7954da2",
   "metadata": {},
   "outputs": [],
   "source": []
  },
  {
   "cell_type": "code",
   "execution_count": null,
   "id": "29a6a363-6c85-4f55-9d9c-c8a3ad4ab42b",
   "metadata": {},
   "outputs": [],
   "source": []
  },
  {
   "cell_type": "code",
   "execution_count": null,
   "id": "ed64dc7b-aedb-4e0a-99bf-d30c442a92b4",
   "metadata": {},
   "outputs": [],
   "source": []
  },
  {
   "cell_type": "code",
   "execution_count": null,
   "id": "afe64b81-2dc6-4806-aebf-37cd5cfa7ba6",
   "metadata": {},
   "outputs": [],
   "source": []
  },
  {
   "cell_type": "code",
   "execution_count": null,
   "id": "927eb964-3fc6-48e2-9f9f-645be1c430bb",
   "metadata": {},
   "outputs": [],
   "source": []
  }
 ],
 "metadata": {
  "kernelspec": {
   "display_name": "Python 3 (ipykernel)",
   "language": "python",
   "name": "python3"
  },
  "language_info": {
   "codemirror_mode": {
    "name": "ipython",
    "version": 3
   },
   "file_extension": ".py",
   "mimetype": "text/x-python",
   "name": "python",
   "nbconvert_exporter": "python",
   "pygments_lexer": "ipython3",
   "version": "3.12.4"
  }
 },
 "nbformat": 4,
 "nbformat_minor": 5
}
