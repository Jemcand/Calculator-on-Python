{
 "cells": [
  {
   "cell_type": "code",
   "execution_count": 3,
   "id": "25c42ea7-2884-439c-a1bb-fa232ae4f509",
   "metadata": {},
   "outputs": [],
   "source": [
    "def add(x,y):\n",
    "    return x + y\n",
    "def subtract(x,y):\n",
    "    return x - y\n",
    "def multiply(x,y):\n",
    "    return x * y\n",
    "def divide(x,y):\n",
    "    return x / y"
   ]
  },
  {
   "cell_type": "code",
   "execution_count": 5,
   "id": "97a36e98-6a81-4645-b998-f5642e17b489",
   "metadata": {},
   "outputs": [
    {
     "name": "stdin",
     "output_type": "stream",
     "text": [
      "Enter Choice (A,S,M,D):  A\n"
     ]
    }
   ],
   "source": [
    "choice = input('Enter Choice (A,S,M,D): ')\n",
    "num1 = float(input('Enter Fisrt Number: '))\n",
    "num2 = float(input('Enter Second Number: '))"
   ]
  },
  {
   "cell_type": "code",
   "execution_count": 27,
   "id": "e0d5bb4d-4248-4720-bd21-5870259f60c7",
   "metadata": {},
   "outputs": [
    {
     "name": "stdout",
     "output_type": "stream",
     "text": [
      "Enter A for Addition\n",
      "Enter S for Subtraction\n",
      "Enter M for Multiplication\n",
      "Enter D for Divition\n"
     ]
    },
    {
     "name": "stdin",
     "output_type": "stream",
     "text": [
      "Enter Choice (A,S,M,D):  a\n",
      "Enter Fisrt Number:  10\n",
      "Enter Second Number:  20\n"
     ]
    },
    {
     "name": "stdout",
     "output_type": "stream",
     "text": [
      "Result:  10.0 + 20.0 = 30.0\n"
     ]
    },
    {
     "name": "stdin",
     "output_type": "stream",
     "text": [
      "Want to do another calculation? (Y/N):  y\n",
      "Enter Choice (A,S,M,D):  d\n",
      "Enter Fisrt Number:  10\n",
      "Enter Second Number:  20\n"
     ]
    },
    {
     "name": "stdout",
     "output_type": "stream",
     "text": [
      "Result:  10.0 / 20.0 = 0.5\n"
     ]
    },
    {
     "name": "stdin",
     "output_type": "stream",
     "text": [
      "Want to do another calculation? (Y/N):  n\n"
     ]
    }
   ],
   "source": [
    "print('Enter A for Addition')\n",
    "print('Enter S for Subtraction')\n",
    "print('Enter M for Multiplication')\n",
    "print('Enter D for Divition')\n",
    "\n",
    "while True:\n",
    "    choice = input('Enter Choice (A,S,M,D): ')\n",
    "    if choice.upper() in ('A','S','M','D','ADD','ADDITION','SUBTRACT','SUBTRACTION','MULTIPLY','MULTIPLICATION','DIVIDE','DIVISION'):\n",
    "        num1 = float(input('Enter Fisrt Number: '))\n",
    "        num2 = float(input('Enter Second Number: '))\n",
    "        \n",
    "        if choice.upper() in ('A','ADD','ADDITION'):\n",
    "            print('Result: ',num1, '+', num2, '=',add(num1,num2))\n",
    "            \n",
    "        elif choice.upper() in ('S','SUBTRACT','SUBTRACTION'):\n",
    "            print('Result: ',num1, '-', num2, '=',subtract(num1,num2))\n",
    "            \n",
    "        elif choice.upper() in ('M','MULTIPLY','MULTIPLICATION'):\n",
    "            print('Result: ',num1, '*', num2, '=',multiply(num1,num2))\n",
    "            \n",
    "        elif choice.upper() in ('D','DIVIDE','DIVISION'):\n",
    "            print('Result: ',num1, '/', num2, '=',divide(num1,num2))\n",
    "    \n",
    "    else:\n",
    "        print('Your input was incorrect. Please try again.')\n",
    "    \n",
    "    next_calculation = input('Want to do another calculation? (Y/N): ')\n",
    "    if next_calculation.upper() in ('N', 'NO'):\n",
    "        break"
   ]
  },
  {
   "cell_type": "code",
   "execution_count": null,
   "id": "afe64b81-2dc6-4806-aebf-37cd5cfa7ba6",
   "metadata": {},
   "outputs": [],
   "source": []
  },
  {
   "cell_type": "code",
   "execution_count": null,
   "id": "927eb964-3fc6-48e2-9f9f-645be1c430bb",
   "metadata": {},
   "outputs": [],
   "source": []
  }
 ],
 "metadata": {
  "kernelspec": {
   "display_name": "Python 3 (ipykernel)",
   "language": "python",
   "name": "python3"
  },
  "language_info": {
   "codemirror_mode": {
    "name": "ipython",
    "version": 3
   },
   "file_extension": ".py",
   "mimetype": "text/x-python",
   "name": "python",
   "nbconvert_exporter": "python",
   "pygments_lexer": "ipython3",
   "version": "3.12.4"
  }
 },
 "nbformat": 4,
 "nbformat_minor": 5
}
